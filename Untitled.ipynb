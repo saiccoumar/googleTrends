{
 "cells": [
  {
   "cell_type": "code",
   "execution_count": 2,
   "metadata": {},
   "outputs": [],
   "source": [
    "import numpy as np\n",
    "import matplotlib.pyplot as plt\n",
    "import pandas as pd\n",
    "from sklearn.model_selection import train_test_split"
   ]
  },
  {
   "cell_type": "code",
   "execution_count": 29,
   "metadata": {},
   "outputs": [
    {
     "name": "stdout",
     "output_type": "stream",
     "text": [
      "          Week  Value\n",
      "0   2020-01-12     47\n",
      "1   2020-01-19     48\n",
      "2   2020-01-26     52\n",
      "3   2020-02-02     85\n",
      "4   2020-02-09     54\n",
      "5   2020-02-16     51\n",
      "6   2020-02-23     53\n",
      "7   2020-03-01     48\n",
      "8   2020-03-08     50\n",
      "9   2020-03-15     46\n",
      "10  2020-03-22     39\n",
      "11  2020-03-29     32\n",
      "12  2020-04-05     29\n",
      "13  2020-04-12     34\n",
      "14  2020-04-19     29\n",
      "15  2020-04-26     41\n",
      "16  2020-05-03     36\n",
      "17  2020-05-10     44\n",
      "18  2020-05-17     35\n",
      "19  2020-05-24     41\n",
      "20  2020-05-31     39\n",
      "21  2020-06-07     53\n",
      "22  2020-06-14     46\n",
      "23  2020-06-21     45\n",
      "24  2020-06-28     50\n",
      "25  2020-07-05     63\n",
      "26  2020-07-12     67\n",
      "27  2020-07-19     72\n",
      "28  2020-07-26     53\n",
      "29  2020-08-02     46\n",
      "30  2020-08-09     58\n",
      "31  2020-08-16     68\n",
      "32  2020-08-23     70\n",
      "33  2020-08-30    100\n",
      "34  2020-09-06     74\n",
      "35  2020-09-13     64\n",
      "36  2020-09-20     85\n",
      "37  2020-09-27     60\n",
      "38  2020-10-04     50\n",
      "39  2020-10-11     55\n",
      "40  2020-10-18     59\n",
      "41  2020-10-25     46\n",
      "42  2020-11-01     38\n",
      "43  2020-11-08     43\n",
      "44  2020-11-15     61\n",
      "45  2020-11-22     58\n",
      "46  2020-11-29     58\n",
      "47  2020-12-06     63\n",
      "48  2020-12-13     60\n",
      "49  2020-12-20     61\n",
      "50  2020-12-27     60\n",
      "51  2021-01-03     69\n",
      "['2020-01-12' '2020-01-19' '2020-01-26' '2020-02-02' '2020-02-09'\n",
      " '2020-02-16' '2020-02-23' '2020-03-01' '2020-03-08' '2020-03-15'\n",
      " '2020-03-22' '2020-03-29' '2020-04-05' '2020-04-12' '2020-04-19'\n",
      " '2020-04-26' '2020-05-03' '2020-05-10' '2020-05-17' '2020-05-24'\n",
      " '2020-05-31' '2020-06-07' '2020-06-14' '2020-06-21' '2020-06-28'\n",
      " '2020-07-05' '2020-07-12' '2020-07-19' '2020-07-26' '2020-08-02'\n",
      " '2020-08-09' '2020-08-16' '2020-08-23' '2020-08-30' '2020-09-06'\n",
      " '2020-09-13' '2020-09-20' '2020-09-27' '2020-10-04' '2020-10-11'\n",
      " '2020-10-18' '2020-10-25' '2020-11-01' '2020-11-08' '2020-11-15'\n",
      " '2020-11-22' '2020-11-29' '2020-12-06' '2020-12-13' '2020-12-20'\n",
      " '2020-12-27' '2021-01-03']\n",
      "  \n",
      "[ 47  48  52  85  54  51  53  48  50  46  39  32  29  34  29  41  36  44\n",
      "  35  41  39  53  46  45  50  63  67  72  53  46  58  68  70 100  74  64\n",
      "  85  60  50  55  59  46  38  43  61  58  58  63  60  61  60  69]\n"
     ]
    }
   ],
   "source": [
    "dataset = pd.read_csv('/Users/saicoumar/Desktop/multiTimeline.csv')\n",
    "print(dataset)\n",
    "X = dataset.iloc[:, 0].values\n",
    "y = dataset.iloc[:, 1].values\n",
    "print(X)\n",
    "print(\"  \")\n",
    "print(y)"
   ]
  },
  {
   "cell_type": "code",
   "execution_count": null,
   "metadata": {},
   "outputs": [],
   "source": [
    "X_train, X_test, y_train, y_test = train_test_split(X, y, test_size = 0.2, random_state = 0)"
   ]
  },
  {
   "cell_type": "markdown",
   "metadata": {},
   "source": [
    "Decision Tree Regression"
   ]
  },
  {
   "cell_type": "code",
   "execution_count": null,
   "metadata": {},
   "outputs": [],
   "source": [
    "from sklearn.tree import DecisionTreeRegressor\n",
    "regressor = DecisionTreeRegressor(random_state = 0)\n",
    "regressor.fit(X_train, y_train)"
   ]
  }
 ],
 "metadata": {
  "kernelspec": {
   "display_name": "Python 3",
   "language": "python",
   "name": "python3"
  },
  "language_info": {
   "codemirror_mode": {
    "name": "ipython",
    "version": 3
   },
   "file_extension": ".py",
   "mimetype": "text/x-python",
   "name": "python",
   "nbconvert_exporter": "python",
   "pygments_lexer": "ipython3",
   "version": "3.8.3"
  }
 },
 "nbformat": 4,
 "nbformat_minor": 4
}
